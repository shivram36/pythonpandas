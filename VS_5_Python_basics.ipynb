{
  "cells": [
    {
      "cell_type": "markdown",
      "metadata": {
        "id": "view-in-github",
        "colab_type": "text"
      },
      "source": [
        "<a href=\"https://colab.research.google.com/github/shivram36/pythonpandas/blob/main/VS_5_Python_basics.ipynb\" target=\"_parent\"><img src=\"https://colab.research.google.com/assets/colab-badge.svg\" alt=\"Open In Colab\"/></a>"
      ]
    },
    {
      "cell_type": "markdown",
      "id": "118ee4ea",
      "metadata": {
        "id": "118ee4ea"
      },
      "source": [
        "### Tuples"
      ]
    },
    {
      "cell_type": "markdown",
      "id": "fad4e06b",
      "metadata": {
        "id": "fad4e06b"
      },
      "source": [
        "* used to store multiple items seperated by comma\n",
        "* tuple is a collection of elements which is ordered and immutable."
      ]
    },
    {
      "cell_type": "code",
      "execution_count": null,
      "id": "f7b99854",
      "metadata": {
        "id": "f7b99854",
        "outputId": "79589d59-f004-486b-aeb1-280785f15e66"
      },
      "outputs": [
        {
          "name": "stdout",
          "output_type": "stream",
          "text": [
            "(1, 7, 13, 34, 5)\n"
          ]
        }
      ],
      "source": [
        "# Tuple having integers\n",
        "t1 = (1, 7, 13, 34,5)\n",
        "print(t1)"
      ]
    },
    {
      "cell_type": "code",
      "execution_count": null,
      "id": "0c2738da",
      "metadata": {
        "id": "0c2738da",
        "outputId": "883c6404-7629-46e4-f801-965009c8f27e"
      },
      "outputs": [
        {
          "name": "stdout",
          "output_type": "stream",
          "text": [
            "(1, 'Hello', 3.4)\n"
          ]
        }
      ],
      "source": [
        "# tuple with mixed datatypes\n",
        "t2 = (1, \"Hello\", 3.4)\n",
        "print(t2) "
      ]
    },
    {
      "cell_type": "code",
      "execution_count": null,
      "id": "b2f920e7",
      "metadata": {
        "id": "b2f920e7",
        "outputId": "b36cc13a-8538-4044-d7e2-56d63d58b7fa"
      },
      "outputs": [
        {
          "data": {
            "text/plain": [
              "tuple"
            ]
          },
          "execution_count": 13,
          "metadata": {},
          "output_type": "execute_result"
        }
      ],
      "source": [
        "type(t2)"
      ]
    },
    {
      "cell_type": "code",
      "execution_count": null,
      "id": "ac04bc8e",
      "metadata": {
        "id": "ac04bc8e",
        "outputId": "216e804b-049d-4462-9427-d1faaece20b4"
      },
      "outputs": [
        {
          "name": "stdout",
          "output_type": "stream",
          "text": [
            "(244, 456, 768, 23, 568, 22, 7, 6980, 444, 888)\n"
          ]
        }
      ],
      "source": [
        "#  concatenating 2 tuples\n",
        "  \n",
        "tuple1 = (244,456,768,23,568,22,7,6980)\n",
        "tuple2 = (444, 888)\n",
        "tuple3 = ('DA', 'DS')\n",
        "\n",
        "print(tuple1 + tuple2)"
      ]
    },
    {
      "cell_type": "code",
      "execution_count": null,
      "id": "28c0b03c",
      "metadata": {
        "id": "28c0b03c",
        "outputId": "4dbfb6f6-144b-4938-9d00-51f5b30c40e6"
      },
      "outputs": [
        {
          "data": {
            "text/plain": [
              "8"
            ]
          },
          "execution_count": 13,
          "metadata": {},
          "output_type": "execute_result"
        }
      ],
      "source": [
        "len(tuple1)"
      ]
    },
    {
      "cell_type": "code",
      "execution_count": null,
      "id": "17f0fedd",
      "metadata": {
        "id": "17f0fedd",
        "outputId": "64670849-a471-4233-8394-393d11d09469"
      },
      "outputs": [
        {
          "data": {
            "text/plain": [
              "('DA', 'DS', 'DA', 'DS')"
            ]
          },
          "execution_count": 16,
          "metadata": {},
          "output_type": "execute_result"
        }
      ],
      "source": [
        "# repetition of elements\n",
        "tuple3 * 2"
      ]
    },
    {
      "cell_type": "code",
      "execution_count": null,
      "id": "f0daeb46",
      "metadata": {
        "id": "f0daeb46",
        "outputId": "262984de-f5e2-4656-95e0-b1c611369f5b"
      },
      "outputs": [
        {
          "data": {
            "text/plain": [
              "456"
            ]
          },
          "execution_count": 17,
          "metadata": {},
          "output_type": "execute_result"
        }
      ],
      "source": [
        "tuple1[1]"
      ]
    },
    {
      "cell_type": "code",
      "execution_count": null,
      "id": "c7793717",
      "metadata": {
        "id": "c7793717",
        "outputId": "7c25161b-2ca3-405e-c0d8-a4ffd4ea0a99"
      },
      "outputs": [
        {
          "data": {
            "text/plain": [
              "(23, 568, 22, 7, 6980)"
            ]
          },
          "execution_count": 18,
          "metadata": {},
          "output_type": "execute_result"
        }
      ],
      "source": [
        "tuple1[3:]"
      ]
    },
    {
      "cell_type": "code",
      "execution_count": null,
      "id": "a7e97ae9",
      "metadata": {
        "id": "a7e97ae9",
        "outputId": "8b42afd1-bb46-4e81-b994-a3dfd4f09386"
      },
      "outputs": [
        {
          "data": {
            "text/plain": [
              "6980"
            ]
          },
          "execution_count": 19,
          "metadata": {},
          "output_type": "execute_result"
        }
      ],
      "source": [
        "tuple1[-1]"
      ]
    },
    {
      "cell_type": "code",
      "execution_count": null,
      "id": "de7cce19",
      "metadata": {
        "id": "de7cce19",
        "outputId": "fe141d36-c66f-4c34-b432-5f8e997fa725"
      },
      "outputs": [
        {
          "data": {
            "text/plain": [
              "(22, 7)"
            ]
          },
          "execution_count": 20,
          "metadata": {},
          "output_type": "execute_result"
        }
      ],
      "source": [
        "tuple1[5:-1]"
      ]
    },
    {
      "cell_type": "code",
      "execution_count": null,
      "id": "260dcfaf",
      "metadata": {
        "id": "260dcfaf",
        "outputId": "399f3b27-7e37-4abd-8de2-0f466c957eb9"
      },
      "outputs": [
        {
          "ename": "TypeError",
          "evalue": "'tuple' object does not support item assignment",
          "output_type": "error",
          "traceback": [
            "\u001b[1;31m---------------------------------------------------------------------------\u001b[0m",
            "\u001b[1;31mTypeError\u001b[0m                                 Traceback (most recent call last)",
            "\u001b[1;32m~\\AppData\\Local\\Temp/ipykernel_19884/3024674043.py\u001b[0m in \u001b[0;36m<module>\u001b[1;34m\u001b[0m\n\u001b[0;32m      1\u001b[0m \u001b[1;31m## immutable\u001b[0m\u001b[1;33m\u001b[0m\u001b[1;33m\u001b[0m\u001b[0m\n\u001b[0;32m      2\u001b[0m \u001b[1;33m\u001b[0m\u001b[0m\n\u001b[1;32m----> 3\u001b[1;33m \u001b[0mtuple1\u001b[0m\u001b[1;33m[\u001b[0m\u001b[1;36m1\u001b[0m\u001b[1;33m]\u001b[0m \u001b[1;33m=\u001b[0m \u001b[1;36m100\u001b[0m\u001b[1;33m\u001b[0m\u001b[1;33m\u001b[0m\u001b[0m\n\u001b[0m",
            "\u001b[1;31mTypeError\u001b[0m: 'tuple' object does not support item assignment"
          ]
        }
      ],
      "source": [
        "## immutable \n",
        "\n",
        "tuple1[1] = 100"
      ]
    },
    {
      "cell_type": "markdown",
      "id": "3a87ba8a",
      "metadata": {
        "id": "3a87ba8a"
      },
      "source": [
        "### List\n"
      ]
    },
    {
      "cell_type": "markdown",
      "id": "c3ed9692",
      "metadata": {
        "id": "c3ed9692"
      },
      "source": [
        "* store multiple items in a single variable\n",
        "* ordered, it means that the items have a defined order, and that order will not change\n",
        "* If you add new items to a list, the new items will be placed at the end of the list\n",
        "* mutable"
      ]
    },
    {
      "cell_type": "code",
      "execution_count": null,
      "id": "d2ff1ce4",
      "metadata": {
        "id": "d2ff1ce4",
        "outputId": "7a184546-dde3-446a-8f92-27dc1aacdb09"
      },
      "outputs": [
        {
          "data": {
            "text/plain": [
              "['apple', 'banana', 'grapes', 'apple', 'mango']"
            ]
          },
          "execution_count": 24,
          "metadata": {},
          "output_type": "execute_result"
        }
      ],
      "source": [
        "l1 = [\"apple\", \"banana\", \"grapes\", \"apple\", \"mango\"]\n",
        "l1"
      ]
    },
    {
      "cell_type": "code",
      "execution_count": null,
      "id": "b9efd9b6",
      "metadata": {
        "id": "b9efd9b6",
        "outputId": "a50d5c1c-d6e2-4e16-dda5-910c6bd04295"
      },
      "outputs": [
        {
          "data": {
            "text/plain": [
              "5"
            ]
          },
          "execution_count": 25,
          "metadata": {},
          "output_type": "execute_result"
        }
      ],
      "source": [
        "len(l1)"
      ]
    },
    {
      "cell_type": "code",
      "execution_count": null,
      "id": "045682fb",
      "metadata": {
        "id": "045682fb",
        "outputId": "49095b7c-5f88-42a0-fe09-938871b8cbee"
      },
      "outputs": [
        {
          "data": {
            "text/plain": [
              "['a', 34, True, 40, 'd']"
            ]
          },
          "execution_count": 26,
          "metadata": {},
          "output_type": "execute_result"
        }
      ],
      "source": [
        "l2 = [\"a\", 34, True, 40, \"d\"]\n",
        "l2"
      ]
    },
    {
      "cell_type": "code",
      "execution_count": null,
      "id": "1839c767",
      "metadata": {
        "id": "1839c767",
        "outputId": "cca41ed7-879b-473b-83cf-c4e32baafd48"
      },
      "outputs": [
        {
          "data": {
            "text/plain": [
              "['a', 34, True, 40, 'd', 100]"
            ]
          },
          "execution_count": 27,
          "metadata": {},
          "output_type": "execute_result"
        }
      ],
      "source": [
        "l2.append(100)\n",
        "l2"
      ]
    },
    {
      "cell_type": "markdown",
      "id": "76e50807",
      "metadata": {
        "id": "76e50807"
      },
      "source": [
        "### Sets"
      ]
    },
    {
      "cell_type": "markdown",
      "id": "e3883de2",
      "metadata": {
        "id": "e3883de2"
      },
      "source": [
        "* Set is an unordered collection data type that is iterable, mutable and has no duplicate elements"
      ]
    },
    {
      "cell_type": "code",
      "execution_count": null,
      "id": "d46f8f6c",
      "metadata": {
        "id": "d46f8f6c",
        "outputId": "9cb372a0-3a83-42ee-b9b8-48a30bc75bda"
      },
      "outputs": [
        {
          "data": {
            "text/plain": [
              "{'a', 'b', 'c'}"
            ]
          },
          "execution_count": 28,
          "metadata": {},
          "output_type": "execute_result"
        }
      ],
      "source": [
        "s1 = set([\"a\", \"b\", \"c\"])\n",
        "s1"
      ]
    },
    {
      "cell_type": "code",
      "execution_count": null,
      "id": "d5346167",
      "metadata": {
        "id": "d5346167",
        "outputId": "9cc442a6-1533-4548-d3a5-9449d42cc8e3"
      },
      "outputs": [
        {
          "data": {
            "text/plain": [
              "{'a', 'b', 'c', 'd'}"
            ]
          },
          "execution_count": 29,
          "metadata": {},
          "output_type": "execute_result"
        }
      ],
      "source": [
        "# Adding element to the set\n",
        "s1.add(\"d\")\n",
        "s1"
      ]
    },
    {
      "cell_type": "code",
      "execution_count": null,
      "id": "18089b25",
      "metadata": {
        "id": "18089b25",
        "outputId": "121cbc34-8491-4a18-f6c5-da9fd8accf0e"
      },
      "outputs": [
        {
          "data": {
            "text/plain": [
              "{(10, 20, 30), 1.0, 'Hello'}"
            ]
          },
          "execution_count": 30,
          "metadata": {},
          "output_type": "execute_result"
        }
      ],
      "source": [
        "s2 = {1.0, \"Hello\", (10, 20, 30)}\n",
        "s2"
      ]
    },
    {
      "cell_type": "code",
      "execution_count": null,
      "id": "84a3c47f",
      "metadata": {
        "id": "84a3c47f",
        "outputId": "02e48295-2ead-43eb-994c-08f14a958468"
      },
      "outputs": [
        {
          "data": {
            "text/plain": [
              "{10, 20, 30, 40}"
            ]
          },
          "execution_count": 31,
          "metadata": {},
          "output_type": "execute_result"
        }
      ],
      "source": [
        "s3 = {10, 20, 30, 40, 30, 20}\n",
        "s3"
      ]
    },
    {
      "cell_type": "markdown",
      "id": "be68bef2",
      "metadata": {
        "id": "be68bef2"
      },
      "source": [
        "## Dictionary"
      ]
    },
    {
      "cell_type": "markdown",
      "id": "5a57928b",
      "metadata": {
        "id": "5a57928b"
      },
      "source": [
        "* ordered, mutable and do not allow duplicate elements\n",
        "* Values in a dictionary can be of any data type and can be duplicated, whereas keys can’t be repeated."
      ]
    },
    {
      "cell_type": "code",
      "execution_count": null,
      "id": "db4b2a69",
      "metadata": {
        "id": "db4b2a69",
        "outputId": "d1718986-d27b-4ecf-ce2b-2dde829b0ba8"
      },
      "outputs": [
        {
          "data": {
            "text/plain": [
              "{'key1': 'item1', 'key2': 'item2'}"
            ]
          },
          "execution_count": 1,
          "metadata": {},
          "output_type": "execute_result"
        }
      ],
      "source": [
        "d1 = {'key1':'item1','key2':'item2'}\n",
        "d1"
      ]
    },
    {
      "cell_type": "code",
      "execution_count": null,
      "id": "6be7820a",
      "metadata": {
        "id": "6be7820a",
        "outputId": "31e243a0-e560-4706-cba4-1aa4fc0a7f3a"
      },
      "outputs": [
        {
          "data": {
            "text/plain": [
              "{'name': ['A', 'B', 'C'], 'age': [26, 25, 27]}"
            ]
          },
          "execution_count": 2,
          "metadata": {},
          "output_type": "execute_result"
        }
      ],
      "source": [
        "d2 = {'name': ['A','B','C'], 'age': [26, 25, 27]}\n",
        "d2"
      ]
    },
    {
      "cell_type": "code",
      "execution_count": null,
      "id": "d85aa62f",
      "metadata": {
        "id": "d85aa62f",
        "outputId": "8134b1d5-9de7-4647-c5b7-f5adccf51d15"
      },
      "outputs": [
        {
          "data": {
            "text/plain": [
              "['A', 'B', 'C']"
            ]
          },
          "execution_count": 3,
          "metadata": {},
          "output_type": "execute_result"
        }
      ],
      "source": [
        "d2.get('name')"
      ]
    },
    {
      "cell_type": "code",
      "execution_count": null,
      "id": "9cb6d130",
      "metadata": {
        "id": "9cb6d130",
        "outputId": "c70b4d7a-08df-40e7-c23d-886cb6674903"
      },
      "outputs": [
        {
          "data": {
            "text/plain": [
              "dict_keys(['name', 'age'])"
            ]
          },
          "execution_count": 4,
          "metadata": {},
          "output_type": "execute_result"
        }
      ],
      "source": [
        "d2.keys()"
      ]
    },
    {
      "cell_type": "code",
      "execution_count": null,
      "id": "9d7d07d8",
      "metadata": {
        "id": "9d7d07d8",
        "outputId": "91fed8b2-dc8d-43f3-f87f-7c2ec8736040"
      },
      "outputs": [
        {
          "data": {
            "text/plain": [
              "dict_values([['A', 'B', 'C'], [26, 25, 27]])"
            ]
          },
          "execution_count": 5,
          "metadata": {},
          "output_type": "execute_result"
        }
      ],
      "source": [
        "d2.values()"
      ]
    },
    {
      "cell_type": "code",
      "execution_count": null,
      "id": "559d43e5",
      "metadata": {
        "id": "559d43e5"
      },
      "outputs": [],
      "source": [
        "d2['dept.'] = ['D1', 'D2', 'D3']"
      ]
    },
    {
      "cell_type": "code",
      "execution_count": null,
      "id": "9c8ed837",
      "metadata": {
        "id": "9c8ed837",
        "outputId": "0781f443-28b3-4325-b796-d89ad6d8ff73"
      },
      "outputs": [
        {
          "data": {
            "text/plain": [
              "{'name': ['A', 'B', 'C'], 'age': [26, 25, 27], 'dept.': ['D1', 'D2', 'D3']}"
            ]
          },
          "execution_count": 10,
          "metadata": {},
          "output_type": "execute_result"
        }
      ],
      "source": [
        "d2"
      ]
    },
    {
      "cell_type": "code",
      "execution_count": null,
      "id": "03c2333a",
      "metadata": {
        "id": "03c2333a"
      },
      "outputs": [],
      "source": []
    },
    {
      "cell_type": "code",
      "execution_count": null,
      "id": "0406b3f9",
      "metadata": {
        "id": "0406b3f9"
      },
      "outputs": [],
      "source": [
        "###"
      ]
    },
    {
      "cell_type": "code",
      "execution_count": null,
      "id": "2d707eb8",
      "metadata": {
        "id": "2d707eb8"
      },
      "outputs": [],
      "source": [
        "### List Comprehension \n",
        "## shorter way to filter out records from a given list\n",
        "\n",
        "def odd_num(x,y):\n",
        "    return([a for a in range(x,y) if a%2!=0])"
      ]
    },
    {
      "cell_type": "code",
      "execution_count": null,
      "id": "2f2fca93",
      "metadata": {
        "id": "2f2fca93",
        "outputId": "e7a8499e-0b1d-43f3-dfbd-1d4899a25592"
      },
      "outputs": [
        {
          "data": {
            "text/plain": [
              "[1, 3, 5, 7, 9]"
            ]
          },
          "execution_count": 41,
          "metadata": {},
          "output_type": "execute_result"
        }
      ],
      "source": [
        "odd_num(1,10)"
      ]
    },
    {
      "cell_type": "code",
      "execution_count": null,
      "id": "d5088d36",
      "metadata": {
        "id": "d5088d36",
        "outputId": "d3b29e93-e85a-49cb-8ca4-a7c5621c0fad"
      },
      "outputs": [
        {
          "data": {
            "text/plain": [
              "['apple', 'banana', 'grapes', 'apple', 'mango']"
            ]
          },
          "execution_count": 42,
          "metadata": {},
          "output_type": "execute_result"
        }
      ],
      "source": [
        "l1"
      ]
    },
    {
      "cell_type": "code",
      "execution_count": null,
      "id": "8d44f9cb",
      "metadata": {
        "id": "8d44f9cb",
        "outputId": "d96ac25a-7624-42d8-e291-4c076a0d92fa"
      },
      "outputs": [
        {
          "data": {
            "text/plain": [
              "['banana', 'grapes', 'mango']"
            ]
          },
          "execution_count": 43,
          "metadata": {},
          "output_type": "execute_result"
        }
      ],
      "source": [
        "[fruits for fruits in l1 if fruits!='apple']"
      ]
    },
    {
      "cell_type": "code",
      "execution_count": null,
      "id": "a616ddb1",
      "metadata": {
        "id": "a616ddb1",
        "outputId": "30de2a4b-d999-4965-9653-a6bf469d47b4"
      },
      "outputs": [
        {
          "data": {
            "text/plain": [
              "[0, 1, 4, 9, 16, 25, 36, 49, 64, 81]"
            ]
          },
          "execution_count": 44,
          "metadata": {},
          "output_type": "execute_result"
        }
      ],
      "source": [
        "squares = []\n",
        "for i in range(10):\n",
        "    squares.append(i * i)\n",
        "squares"
      ]
    },
    {
      "cell_type": "code",
      "execution_count": null,
      "id": "48702495",
      "metadata": {
        "id": "48702495",
        "outputId": "68d723a9-398d-4068-a6c2-7a0737b0eb9f"
      },
      "outputs": [
        {
          "data": {
            "text/plain": [
              "[0, 1, 4, 9, 16, 25, 36, 49, 64, 81]"
            ]
          },
          "execution_count": 52,
          "metadata": {},
          "output_type": "execute_result"
        }
      ],
      "source": [
        "[x**2 for x in range(10)]"
      ]
    },
    {
      "cell_type": "code",
      "execution_count": null,
      "id": "c027c931",
      "metadata": {
        "id": "c027c931",
        "outputId": "9ca9b125-319f-49c7-cdf1-e71e9927d88a"
      },
      "outputs": [
        {
          "data": {
            "text/plain": [
              "[['Everest', 8848]]"
            ]
          },
          "execution_count": 53,
          "metadata": {},
          "output_type": "execute_result"
        }
      ],
      "source": [
        "mountains = [\n",
        "    ['Makalu', 8485],\n",
        "    ['Lhotse', 8516],\n",
        "    ['Kanchendzonga', 8586],\n",
        "    ['K2', 8611],\n",
        "    ['Everest', 8848]\n",
        "]\n",
        "\n",
        "\n",
        "\n",
        "[x for x in mountains if x[1] > 8800]\n"
      ]
    },
    {
      "cell_type": "code",
      "execution_count": null,
      "id": "26c20d70",
      "metadata": {
        "id": "26c20d70"
      },
      "outputs": [],
      "source": []
    },
    {
      "cell_type": "code",
      "execution_count": null,
      "id": "d050c2fe",
      "metadata": {
        "id": "d050c2fe"
      },
      "outputs": [],
      "source": []
    },
    {
      "cell_type": "code",
      "execution_count": null,
      "id": "5e147933",
      "metadata": {
        "id": "5e147933"
      },
      "outputs": [],
      "source": []
    },
    {
      "cell_type": "code",
      "execution_count": null,
      "id": "0bab5872",
      "metadata": {
        "id": "0bab5872"
      },
      "outputs": [],
      "source": []
    },
    {
      "cell_type": "code",
      "execution_count": null,
      "id": "cfa2d9de",
      "metadata": {
        "id": "cfa2d9de"
      },
      "outputs": [],
      "source": []
    },
    {
      "cell_type": "code",
      "execution_count": null,
      "id": "6794e2f3",
      "metadata": {
        "id": "6794e2f3"
      },
      "outputs": [],
      "source": []
    }
  ],
  "metadata": {
    "kernelspec": {
      "display_name": "Python 3 (ipykernel)",
      "language": "python",
      "name": "python3"
    },
    "language_info": {
      "codemirror_mode": {
        "name": "ipython",
        "version": 3
      },
      "file_extension": ".py",
      "mimetype": "text/x-python",
      "name": "python",
      "nbconvert_exporter": "python",
      "pygments_lexer": "ipython3",
      "version": "3.9.12"
    },
    "colab": {
      "provenance": [],
      "include_colab_link": true
    }
  },
  "nbformat": 4,
  "nbformat_minor": 5
}